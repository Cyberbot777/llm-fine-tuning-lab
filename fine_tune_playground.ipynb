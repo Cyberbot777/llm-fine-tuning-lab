{
 "cells": [
  {
   "cell_type": "code",
   "execution_count": null,
   "id": "3d3523bb",
   "metadata": {},
   "outputs": [],
   "source": [
    "from transformers import AutoTokenizer, AutoModelForCausalLM, pipeline\n",
    "from IPython.display import Markdown, display\n",
    "import textwrap\n",
    "\n",
    "# Load model + tokenizer\n",
    "model_name = \"distilgpt2\"\n",
    "tokenizer = AutoTokenizer.from_pretrained(model_name)\n",
    "model = AutoModelForCausalLM.from_pretrained(model_name)\n",
    "\n",
    "# Set up generator\n",
    "generator = pipeline(\"text-generation\", model=model, tokenizer=tokenizer)\n",
    "\n",
    "# Generate text\n",
    "output = generator(\n",
    "    \"Once upon a time,\",\n",
    "    max_new_tokens=60,\n",
    "    do_sample=True,\n",
    "    top_k=50,\n",
    "    temperature=0.9\n",
    ")\n",
    "\n",
    "# Show it pretty\n",
    "print(\"\\nMarkdown Output:\\n\")\n",
    "display(Markdown(output[0][\"generated_text\"]))\n"
   ]
  },
  {
   "cell_type": "code",
   "execution_count": null,
   "id": "9b422fad",
   "metadata": {},
   "outputs": [],
   "source": [
    "from datasets import load_dataset\n",
    "\n",
    "# Load plain text file as a dataset\n",
    "dataset = load_dataset(\"text\", data_files={\"train\": \"oracle_lines.txt\"})\n",
    "\n",
    "# Show one sample\n",
    "print(dataset[\"train\"][0])\n"
   ]
  },
  {
   "cell_type": "code",
   "execution_count": null,
   "id": "9febbc60",
   "metadata": {},
   "outputs": [],
   "source": [
    "from transformers import AutoTokenizer\n",
    "\n",
    "# Load tokenizer\n",
    "tokenizer = AutoTokenizer.from_pretrained(\"distilgpt2\")\n",
    "tokenizer.pad_token = tokenizer.eos_token  # Set pad token!\n",
    "\n",
    "# Tokenize function\n",
    "def tokenize_function(example):\n",
    "    return tokenizer(example[\"text\"], truncation=True, padding=\"max_length\", max_length=128)\n",
    "\n",
    "# Apply to dataset\n",
    "tokenized_dataset = dataset.map(tokenize_function, batched=True)\n",
    "\n",
    "# Preview\n",
    "import pprint\n",
    "pprint.pprint(tokenized_dataset[\"train\"][0])\n"
   ]
  }
 ],
 "metadata": {
  "kernelspec": {
   "display_name": ".venv",
   "language": "python",
   "name": "python3"
  },
  "language_info": {
   "codemirror_mode": {
    "name": "ipython",
    "version": 3
   },
   "file_extension": ".py",
   "mimetype": "text/x-python",
   "name": "python",
   "nbconvert_exporter": "python",
   "pygments_lexer": "ipython3",
   "version": "3.13.5"
  }
 },
 "nbformat": 4,
 "nbformat_minor": 5
}
